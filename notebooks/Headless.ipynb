{
 "cells": [
  {
   "cell_type": "markdown",
   "metadata": {},
   "source": [
    "# Example of high-level interface"
   ]
  },
  {
   "cell_type": "code",
   "execution_count": 1,
   "metadata": {},
   "outputs": [
    {
     "data": {
      "text/plain": [
       "<torch._C.Generator at 0x7fcfc9881fd0>"
      ]
     },
     "execution_count": 1,
     "metadata": {},
     "output_type": "execute_result"
    }
   ],
   "source": [
    "import numpy as np\n",
    "import pylab as plt\n",
    "import swyft\n",
    "import torch\n",
    "%load_ext autoreload\n",
    "%autoreload 2\n",
    "\n",
    "np.random.seed(25)\n",
    "torch.manual_seed(25)"
   ]
  },
  {
   "cell_type": "code",
   "execution_count": 2,
   "metadata": {},
   "outputs": [],
   "source": [
    "DEVICE = 'cuda:0'"
   ]
  },
  {
   "cell_type": "markdown",
   "metadata": {},
   "source": [
    "## Toy generative model"
   ]
  },
  {
   "cell_type": "code",
   "execution_count": 3,
   "metadata": {},
   "outputs": [],
   "source": [
    "def model(z, sigma = .03):\n",
    "    T = np.array([[1, 1.], [0, 1.], [0, 1.]])\n",
    "    n = np.random.randn(3)*sigma\n",
    "    x = T.dot(z) + n\n",
    "    return x"
   ]
  },
  {
   "cell_type": "markdown",
   "metadata": {},
   "source": [
    "## Mock data generation"
   ]
  },
  {
   "cell_type": "code",
   "execution_count": 4,
   "metadata": {},
   "outputs": [
    {
     "name": "stdout",
     "output_type": "stream",
     "text": [
      "[1.00684819 0.63080671 0.57481245] [0.4 0.6]\n"
     ]
    }
   ],
   "source": [
    "z0 = np.array([0.4, 0.6])\n",
    "x0 = model(z0)\n",
    "print(x0, z0)"
   ]
  },
  {
   "cell_type": "markdown",
   "metadata": {},
   "source": [
    "## Automatic inference 1-dim and 2-dim posteriors"
   ]
  },
  {
   "cell_type": "code",
   "execution_count": 5,
   "metadata": {},
   "outputs": [],
   "source": [
    "sw = swyft.SWYFT(x0, model, zdim = 2, device = DEVICE)"
   ]
  },
  {
   "cell_type": "code",
   "execution_count": 6,
   "metadata": {},
   "outputs": [
    {
     "name": "stdout",
     "output_type": "stream",
     "text": [
      "Normalizations\n",
      "x_mean tensor([0.9960, 0.4995, 0.4973])\n",
      "x_err tensor([0.4068, 0.2884, 0.2867])\n",
      "z_mean tensor([0.4971, 0.4988])\n",
      "z_err tensor([0.2918, 0.2862])\n",
      "Epoch: 0 []\n",
      "Epoch: 1 [1.8719648476690054]\n",
      "Epoch: 2 [1.8719648476690054, 1.822313813958317]\n",
      "Epoch: 3 [1.8719648476690054, 1.822313813958317, 1.7346315081231296]\n",
      "Epoch: 4 [1.8719648476690054, 1.822313813958317, 1.7346315081231296, 1.7312008547596633]\n",
      "Epoch: 5 [1.8719648476690054, 1.822313813958317, 1.7346315081231296, 1.7312008547596633, 1.7346122926101089]\n",
      "Epoch: 6 [1.8719648476690054, 1.822313813958317, 1.7346315081231296, 1.7312008547596633, 1.7346122926101089, 1.746462507173419]\n",
      "Epoch: 7 [1.8719648476690054, 1.822313813958317, 1.7346315081231296, 1.7312008547596633, 1.7346122926101089, 1.746462507173419, 1.738531954586506]\n",
      "Epoch: 8 [1.8719648476690054, 1.822313813958317, 1.7346315081231296, 1.7312008547596633, 1.7346122926101089, 1.746462507173419, 1.738531954586506, 1.7010668842121959]\n",
      "Epoch: 9 [1.8719648476690054, 1.822313813958317, 1.7346315081231296, 1.7312008547596633, 1.7346122926101089, 1.746462507173419, 1.738531954586506, 1.7010668842121959, 1.6940259742550552]\n"
     ]
    },
    {
     "name": "stderr",
     "output_type": "stream",
     "text": [
      "/home/bmiller/swyft/swyft/core.py:228: UserWarning: Training finished by reaching max_epochs == 10.\n",
      "  warn(f\"Training finished by reaching max_epochs == {max_epochs}.\")\n"
     ]
    },
    {
     "name": "stdout",
     "output_type": "stream",
     "text": [
      "Constrained posterior volume: 0.29206644444444446\n",
      "Normalizations\n",
      "x_mean tensor([1.0080, 0.5938, 0.5922])\n",
      "x_err tensor([0.2366, 0.1197, 0.1200])\n",
      "z_mean tensor([0.4154, 0.5929])\n",
      "z_err tensor([0.2054, 0.1155])\n",
      "Epoch: 0 []\n",
      "Epoch: 1 [2.3736650263890624]\n",
      "Epoch: 2 [2.3736650263890624, 2.4163722041994333]\n",
      "Epoch: 3 [2.3736650263890624, 2.4163722041994333, 2.3913801666349173]\n",
      "Epoch: 4 [2.3736650263890624, 2.4163722041994333, 2.3913801666349173, 2.395243954844773]\n",
      "Epoch: 5 [2.3736650263890624, 2.4163722041994333, 2.3913801666349173, 2.395243954844773, 2.3770473431795835]\n",
      "Epoch: 6 [2.3736650263890624, 2.4163722041994333, 2.3913801666349173, 2.395243954844773, 2.3770473431795835, 2.362865326926112]\n",
      "Epoch: 7 [2.3736650263890624, 2.4163722041994333, 2.3913801666349173, 2.395243954844773, 2.3770473431795835, 2.362865326926112, 2.3527166806161404]\n",
      "Epoch: 8 [2.3736650263890624, 2.4163722041994333, 2.3913801666349173, 2.395243954844773, 2.3770473431795835, 2.362865326926112, 2.3527166806161404, 2.360317762941122]\n",
      "Epoch: 9 [2.3736650263890624, 2.4163722041994333, 2.3913801666349173, 2.395243954844773, 2.3770473431795835, 2.362865326926112, 2.3527166806161404, 2.360317762941122, 2.3366116397082806]\n"
     ]
    }
   ],
   "source": [
    "sw.run(nrounds = 2, max_epochs=10)"
   ]
  },
  {
   "cell_type": "code",
   "execution_count": 7,
   "metadata": {},
   "outputs": [],
   "source": [
    "import swyft.distributions\n",
    "import swyft.reuse"
   ]
  },
  {
   "cell_type": "code",
   "execution_count": 8,
   "metadata": {},
   "outputs": [],
   "source": [
    "dc = swyft.more.DataCache(\n",
    "    current_round=0,\n",
    "    prior=swyft.distributions.create_prior(2),\n",
    "    x=sw.data_store[-1].x,\n",
    "    z=sw.data_store[-1].z,\n",
    "    rounds=torch.ones(sw.data_store[-1].x.size(0), dtype=torch.long)\n",
    ")\n",
    "rs = swyft.reuse.ReuseSampler(\n",
    "    data_cache=dc,\n",
    "    target_prior=swyft.distributions.create_prior(2, masking_fn=sw.mask_store[-1]),\n",
    "    epsilon=0.1\n",
    ")"
   ]
  },
  {
   "cell_type": "code",
   "execution_count": 15,
   "metadata": {},
   "outputs": [
    {
     "name": "stdout",
     "output_type": "stream",
     "text": [
      "MultivariateUniform(low: torch.Size([2]), high: torch.Size([2])) tensor([0.0598, 0.3967]) tensor([0.7715, 0.7978])\n"
     ]
    }
   ],
   "source": [
    "print(rs.target_prior, rs.target_prior.low, rs.target_prior.high)"
   ]
  },
  {
   "cell_type": "code",
   "execution_count": 9,
   "metadata": {},
   "outputs": [
    {
     "data": {
      "text/plain": [
       "tensor([[0.2164, 0.5116],\n",
       "        [0.3348, 0.4315],\n",
       "        [0.1910, 0.6491],\n",
       "        [0.4304, 0.7283],\n",
       "        [0.1501, 0.4018]])"
      ]
     },
     "execution_count": 9,
     "metadata": {},
     "output_type": "execute_result"
    }
   ],
   "source": [
    "rs.sample(5)"
   ]
  },
  {
   "cell_type": "code",
   "execution_count": 10,
   "metadata": {},
   "outputs": [
    {
     "name": "stdout",
     "output_type": "stream",
     "text": [
      "3000 tensor(True)\n"
     ]
    }
   ],
   "source": [
    "print(len(rs.available), rs.available.any())"
   ]
  },
  {
   "cell_type": "code",
   "execution_count": 11,
   "metadata": {},
   "outputs": [
    {
     "name": "stdout",
     "output_type": "stream",
     "text": [
      "Normalizations\n",
      "x_mean tensor([1.0080, 0.5938, 0.5922])\n",
      "x_err tensor([0.2366, 0.1197, 0.1200])\n",
      "z_mean tensor([0.4154, 0.5929])\n",
      "z_err tensor([0.2054, 0.1155])\n",
      "Epoch: 0 []\n",
      "Epoch: 1 [0.48481196362990886]\n",
      "Epoch: 2 [0.48481196362990886, 0.4614722819533199]\n",
      "Epoch: 3 [0.48481196362990886, 0.4614722819533199, 0.47918998103705235]\n",
      "Epoch: 4 [0.48481196362990886, 0.4614722819533199, 0.47918998103705235, 0.49270424628048204]\n",
      "Epoch: 5 [0.48481196362990886, 0.4614722819533199, 0.47918998103705235, 0.49270424628048204, 0.4924043030187022]\n",
      "Epoch: 6 [0.48481196362990886, 0.4614722819533199, 0.47918998103705235, 0.49270424628048204, 0.4924043030187022, 0.4628643332980573]\n",
      "Epoch: 7 [0.48481196362990886, 0.4614722819533199, 0.47918998103705235, 0.49270424628048204, 0.4924043030187022, 0.4628643332980573, 0.4765436352172401]\n",
      "Epoch: 8 [0.48481196362990886, 0.4614722819533199, 0.47918998103705235, 0.49270424628048204, 0.4924043030187022, 0.4628643332980573, 0.4765436352172401, 0.48063583474140614]\n",
      "Epoch: 9 [0.48481196362990886, 0.4614722819533199, 0.47918998103705235, 0.49270424628048204, 0.4924043030187022, 0.4628643332980573, 0.4765436352172401, 0.48063583474140614, 0.4911873829260003]\n"
     ]
    }
   ],
   "source": [
    "sw.comb([[0, 1]], max_epochs=10)"
   ]
  },
  {
   "cell_type": "markdown",
   "metadata": {},
   "source": [
    "## Plot posteriors"
   ]
  },
  {
   "cell_type": "code",
   "execution_count": 12,
   "metadata": {},
   "outputs": [
    {
     "name": "stdout",
     "output_type": "stream",
     "text": [
      "0.99999994\n",
      "1.0\n"
     ]
    },
    {
     "data": {
      "image/png": "[encoded data removed]",
      "text/plain": [
       "<Figure size 1440x360 with 1 Axes>"
      ]
     },
     "metadata": {
      "needs_background": "light"
     },
     "output_type": "display_data"
    }
   ],
   "source": [
    "plt.figure(figsize=(20, 5))\n",
    "for i in range(2):\n",
    "    zgrid, lnLgrid = sw.posterior(i)\n",
    "    plt.axvline(z0[i])\n",
    "    plt.scatter(zgrid[:], np.exp(lnLgrid[:]))\n",
    "    \n",
    "    # Print integral\n",
    "    x = zgrid\n",
    "#     y = np.exp(lnLgrid)\n",
    "    y = lnLgrid\n",
    "    ii = np.argsort(x)\n",
    "    I = np.trapz(y[ii], x[ii])\n",
    "    print(I)"
   ]
  },
  {
   "cell_type": "code",
   "execution_count": 13,
   "metadata": {},
   "outputs": [
    {
     "data": {
      "text/plain": [
       "(0.0, 1.0)"
      ]
     },
     "execution_count": 13,
     "metadata": {},
     "output_type": "execute_result"
    },
    {
     "data": {
      "image/png": "[encoded data removed]",
      "text/plain": [
       "<Figure size 432x288 with 1 Axes>"
      ]
     },
     "metadata": {
      "needs_background": "light"
     },
     "output_type": "display_data"
    }
   ],
   "source": [
    "zgrid, lnLgrid = sw.posterior([0, 1])\n",
    "plt.scatter(zgrid[:,0], zgrid[:,1], marker='.', color='0.8')\n",
    "max_lnL = lnLgrid[:].max()\n",
    "plt.tricontour(zgrid[:,0], zgrid[:,1], -lnLgrid+max_lnL, levels = [1, 4, 9, 16, 50])\n",
    "plt.xlim([0, 1])\n",
    "plt.ylim([0, 1])"
   ]
  },
  {
   "cell_type": "code",
   "execution_count": null,
   "metadata": {},
   "outputs": [],
   "source": []
  }
 ],
 "metadata": {
  "kernelspec": {
   "display_name": "Python 3",
   "language": "python",
   "name": "python3"
  },
  "language_info": {
   "codemirror_mode": {
    "name": "ipython",
    "version": 3
   },
   "file_extension": ".py",
   "mimetype": "text/x-python",
   "name": "python",
   "nbconvert_exporter": "python",
   "pygments_lexer": "ipython3",
   "version": "3.8.3"
  }
 },
 "nbformat": 4,
 "nbformat_minor": 4
}

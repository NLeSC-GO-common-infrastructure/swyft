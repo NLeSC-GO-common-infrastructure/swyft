{
 "cells": [
  {
   "cell_type": "code",
   "execution_count": 1,
   "metadata": {},
   "outputs": [],
   "source": [
    "import torch"
   ]
  },
  {
   "cell_type": "code",
   "execution_count": 2,
   "metadata": {},
   "outputs": [
    {
     "data": {
      "text/plain": [
       "tensor([[ 0.7784, -2.1388, -1.1403,  1.6359],\n",
       "        [-1.7470,  0.2585, -0.2235,  0.2012],\n",
       "        [-0.3925,  1.3697, -1.7162, -1.5210]])"
      ]
     },
     "execution_count": 2,
     "metadata": {},
     "output_type": "execute_result"
    }
   ],
   "source": [
    "\n",
    "torch.randn(3, 4)"
   ]
  },
  {
   "cell_type": "code",
   "execution_count": 39,
   "metadata": {},
   "outputs": [],
   "source": [
    "import torch\n",
    "\n",
    "class Dataset(torch.utils.data.Dataset):\n",
    "  'Characterizes a dataset for PyTorch'\n",
    "  def __init__(self, list_IDs, labels):\n",
    "        'Initialization'\n",
    "        self.labels = labels\n",
    "        self.list_IDs = list_IDs\n",
    "\n",
    "  def __len__(self):\n",
    "        'Denotes the total number of samples'\n",
    "        return len(self.list_IDs)\n",
    "\n",
    "  def __getitem__(self, index):\n",
    "        'Generates one sample of data'\n",
    "        # Select sample\n",
    "        ID = self.list_IDs[index]\n",
    "\n",
    "        # Load data and get label\n",
    "        X = torch.rand(4)\n",
    "        y = self.labels[index]\n",
    "        y = torch.tensor([y, 1])\n",
    "\n",
    "        return X, y"
   ]
  },
  {
   "cell_type": "code",
   "execution_count": 40,
   "metadata": {},
   "outputs": [],
   "source": [
    "labels = [1, 2, 3, 4]\n",
    "list_IDs = ['123', '124', '123', '323']"
   ]
  },
  {
   "cell_type": "code",
   "execution_count": 41,
   "metadata": {},
   "outputs": [],
   "source": [
    "dataset = Dataset(list_IDs, labels)"
   ]
  },
  {
   "cell_type": "code",
   "execution_count": 42,
   "metadata": {},
   "outputs": [
    {
     "data": {
      "text/plain": [
       "(tensor([0.5532, 0.0099, 0.7996, 0.7286]), tensor([1, 1]))"
      ]
     },
     "execution_count": 42,
     "metadata": {},
     "output_type": "execute_result"
    }
   ],
   "source": [
    "dataset[0]"
   ]
  },
  {
   "cell_type": "code",
   "execution_count": 45,
   "metadata": {},
   "outputs": [],
   "source": [
    "dataloader = torch.utils.data.DataLoader(dataset, batch_size = 20, )"
   ]
  },
  {
   "cell_type": "code",
   "execution_count": 46,
   "metadata": {},
   "outputs": [
    {
     "name": "stdout",
     "output_type": "stream",
     "text": [
      "[tensor([[0.5810, 0.8148, 0.7920, 0.9169],\n",
      "        [0.2524, 0.8623, 0.1307, 0.5808],\n",
      "        [0.2962, 0.6502, 0.9429, 0.1975],\n",
      "        [0.3638, 0.8587, 0.4004, 0.2078]]), tensor([[1, 1],\n",
      "        [2, 1],\n",
      "        [3, 1],\n",
      "        [4, 1]])]\n"
     ]
    }
   ],
   "source": [
    "for d in dataloader:\n",
    "    print(d)"
   ]
  },
  {
   "cell_type": "code",
   "execution_count": 51,
   "metadata": {},
   "outputs": [],
   "source": [
    "a = torch.randn(5, 1, 2)\n",
    "b = torch.randn(5, 3, 2)\n",
    "c = torch.randn(5, 4, 2)\n",
    "dataset = torch.utils.data.TensorDataset(a, b, c)"
   ]
  },
  {
   "cell_type": "code",
   "execution_count": 53,
   "metadata": {},
   "outputs": [
    {
     "data": {
      "text/plain": [
       "(tensor([[ 1.4210, -0.3256]]),\n",
       " tensor([[ 0.5629,  2.5254],\n",
       "         [ 0.1535, -0.5297],\n",
       "         [-0.9892, -1.9830]]),\n",
       " tensor([[ 0.7837,  0.7253],\n",
       "         [ 1.0266, -0.5480],\n",
       "         [-0.4539, -0.1343],\n",
       "         [-0.0343, -0.7471]]))"
      ]
     },
     "execution_count": 53,
     "metadata": {},
     "output_type": "execute_result"
    }
   ],
   "source": [
    "dataset[0]"
   ]
  },
  {
   "cell_type": "code",
   "execution_count": 115,
   "metadata": {},
   "outputs": [],
   "source": [
    "def mask(z):\n",
    "    \"\"\"Default mask onto hyper-cube.\n",
    "    \n",
    "    Args:\n",
    "        z (Tensor): Parameter tensor (..., num_params)\n",
    "    \n",
    "    Returns:\n",
    "        Tensor (...): 1. if inside the hypercube, otherwise 0.\n",
    "    \"\"\"\n",
    "    n = z.shape[-1]\n",
    "    component_mask = torch.where(z < torch.ones(n), \n",
    "                torch.where(z > torch.zeros(n), torch.ones(n), torch.zeros(n)), \n",
    "                torch.zeros(n))\n",
    "    return component_mask.prod(-1)"
   ]
  },
  {
   "cell_type": "code",
   "execution_count": 127,
   "metadata": {},
   "outputs": [],
   "source": [
    "from dataclasses import dataclass\n",
    "\n",
    "@dataclass\n",
    "class Partition:\n",
    "    \"\"\"Keeping data partitions.\"\"\"\n",
    "    name: str\n",
    "    dataset: torch.utils.data.Dataset\n",
    "    mask_fn: type(mask)"
   ]
  },
  {
   "cell_type": "code",
   "execution_count": 130,
   "metadata": {},
   "outputs": [],
   "source": [
    "p = Partition(name = 'str', dataset = 1, mask_fn = 123)"
   ]
  },
  {
   "cell_type": "code",
   "execution_count": null,
   "metadata": {},
   "outputs": [],
   "source": [
    "class Partitions:\n",
    "    \"\"\"List of partitions used for sampling.\"\"\"\n",
    "    partitions: "
   ]
  }
 ],
 "metadata": {
  "kernelspec": {
   "display_name": "Python 3",
   "language": "python",
   "name": "python3"
  },
  "language_info": {
   "codemirror_mode": {
    "name": "ipython",
    "version": 3
   },
   "file_extension": ".py",
   "mimetype": "text/x-python",
   "name": "python",
   "nbconvert_exporter": "python",
   "pygments_lexer": "ipython3",
   "version": "3.7.7"
  }
 },
 "nbformat": 4,
 "nbformat_minor": 4
}

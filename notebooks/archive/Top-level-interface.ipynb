{
 "cells": [
  {
   "cell_type": "markdown",
   "metadata": {},
   "source": [
    "# Top level interface to SWYFT"
   ]
  },
  {
   "cell_type": "code",
   "execution_count": null,
   "metadata": {},
   "outputs": [],
   "source": [
    "# Instantiate SWYFT\n",
    "sw = SWYFT(model)\n",
    "\n",
    "# Run\n",
    "sw.run(nrounds_max, lr, init_mask, ntrain, early_stopping, maxepoch, threshold, storage, head, retain_networks)\n",
    "\n",
    "# Mask -> Train data -> Train network\n",
    "\n",
    "#--> cache entries (masks + samples) + list of trained posterior networks\n",
    "\n",
    "# Get posteriors\n",
    "sw.posterior(dims = [4, 5])"
   ]
  },
  {
   "cell_type": "code",
   "execution_count": null,
   "metadata": {},
   "outputs": [],
   "source": [
    "def gen_mask(net):\n",
    "    return mask\n",
    "# refactor iter_z\n",
    "\n",
    "def get_train_data(model, mask, datastore):\n",
    "    return traindata, traindata_info\n",
    "# refactor simulate, sample, iter_z\n",
    "\n",
    "net = train_network(train_data, head)\n",
    "# refactor network \n",
    "\n",
    "sw.posterior(dims = [4, 5])"
   ]
  },
  {
   "cell_type": "code",
   "execution_count": null,
   "metadata": {},
   "outputs": [],
   "source": [
    "def round(model, mask, datastore):\n",
    "    mask = gen_mask(net)\n",
    "    train_data, train_data_tag = get_train_data(model, mask, datastore)\n",
    "    datastore.append([train_data, mask, train_data_tag])\n",
    "    net = new_net()\n",
    "    net = train(net, train_data)\n",
    "    round_tag = net_tag + train_data_tag\n",
    "    return net, round_tag"
   ]
  },
  {
   "cell_type": "markdown",
   "metadata": {},
   "source": [
    "def run(model, init_mask, datastore, nrounds_max):\n",
    "    # - Can return all networks and return list of networks optionally\n",
    "    # - net_tag provides information about what trianing data was used for training the net, and other necessary details\n",
    "    #   could be general meta-information (dictionary), that we associate with the network itself, like net.info?\n",
    "    #   should be stored together with weights etc\n",
    "    mask = init_mask\n",
    "    while running:\n",
    "        net, net_tag = round(model, mask, datastore)\n",
    "        mask = get_mask(net)\n",
    "    return net, net_tag"
   ]
  }
 ],
 "metadata": {
  "kernelspec": {
   "display_name": "Python 3",
   "language": "python",
   "name": "python3"
  },
  "language_info": {
   "codemirror_mode": {
    "name": "ipython",
    "version": 3
   },
   "file_extension": ".py",
   "mimetype": "text/x-python",
   "name": "python",
   "nbconvert_exporter": "python",
   "pygments_lexer": "ipython3",
   "version": "3.7.7"
  }
 },
 "nbformat": 4,
 "nbformat_minor": 4
}

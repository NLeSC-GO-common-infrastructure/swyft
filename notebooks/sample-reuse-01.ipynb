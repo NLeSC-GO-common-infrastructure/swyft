{
 "cells": [
  {
   "cell_type": "code",
   "execution_count": 1,
   "metadata": {},
   "outputs": [],
   "source": [
    "%matplotlib inline"
   ]
  },
  {
   "cell_type": "markdown",
   "metadata": {},
   "source": [
    "# Sample reuse strategy implementation for 2+ marginals\n",
    "\n",
    "https://hackmd.io/@cweniger/S1FJ1wafD\n",
    "\n",
    "This is a simulation of the reuse strategy. The goal is to determine if we get the correct p(z). The simulatior is ignored for now."
   ]
  },
  {
   "cell_type": "code",
   "execution_count": 2,
   "metadata": {},
   "outputs": [],
   "source": [
    "import numpy as np\n",
    "import matplotlib.pyplot as plt\n",
    "\n",
    "from scipy.stats import truncnorm, uniform\n",
    "\n",
    "from typing import Callable, Union\n",
    "\n",
    "float_type = Union[float, np.float64]"
   ]
  },
  {
   "cell_type": "code",
   "execution_count": 3,
   "metadata": {},
   "outputs": [],
   "source": [
    "def get_pdf_max(pdf: Callable[[int], np.ndarray], a: float_type, b: float_type) -> float_type:\n",
    "    x = np.linspace(a, b, 100)\n",
    "    return pdf(x).max(axis=0)\n",
    "\n",
    "# def draw_w_each_dim_drawn(maximum: np.ndarray) -> np.ndarray:\n",
    "#     try:\n",
    "#         num_marginals = len(maximum)\n",
    "#     except TypeError:\n",
    "#         num_marginals = 1\n",
    "#     return np.random.rand(num_marginals) * maximum\n",
    "\n",
    "# def draw_w_same_rand_mul_by_max(maximum: np.ndarray) -> np.ndarray:\n",
    "#     try:\n",
    "#         num_marginals = len(maximum)\n",
    "#     except TypeError:\n",
    "#         num_marginals = 1\n",
    "#     return np.random.rand() * maximum\n",
    "\n",
    "def draw_w(maximum: np.ndarray) -> np.ndarray:\n",
    "    try:\n",
    "        num_marginals = len(maximum)\n",
    "    except TypeError:\n",
    "        num_marginals = 1\n",
    "    return np.ones(num_marginals) * np.random.rand() * np.max(maximum)\n",
    "\n",
    "class CombinedDist(object):\n",
    "    def __init__(self, dists: list):\n",
    "        self.dists = dists\n",
    "    \n",
    "    def rvs(self, n=None):\n",
    "        return np.stack([d.rvs(n) for d in self.dists], axis=-1)\n",
    "    \n",
    "    def pdf(self, x):\n",
    "#         return np.stack([d.pdf(xx) for xx, d in (x, self.dists)], axis=-1)\n",
    "        return np.stack([d.pdf(x) for d in self.dists], axis=-1)\n",
    "    \n",
    "    def logpdf(self, x):\n",
    "#         return np.stack([d.logpdf(xx) for xx, d in (x, self.dists)], axis=-1)\n",
    "        return np.stack([d.logpdf(x) for d in self.dists], axis=-1)\n",
    "\n",
    "def accept_reject(zp, zp_existing, existing_pdf, existing_pdf_maximum):\n",
    "    \"\"\"zp ~ P(z), zp_existing ~ P'(z), existing_data_pdf = P', existing_data_pdf_maximum = max P' (marginal-wise)\"\"\"\n",
    "    try:\n",
    "        assert len(zp) == len(zp_existing)\n",
    "        num_marginals = len(zp)\n",
    "    except TypeError:\n",
    "        num_marginals = 1\n",
    "    \n",
    "    w = draw_w(existing_pdf_maximum)\n",
    "    existing_pdf_on_zp = existing_pdf(zp)\n",
    "    if existing_pdf_on_zp.ndim == 1:\n",
    "        pass\n",
    "    elif existing_pdf_on_zp.ndim == 2:\n",
    "        existing_pdf_on_zp = np.diagonal(existing_pdf_on_zp)\n",
    "    else:\n",
    "        TypeError()\n",
    "        \n",
    "    if np.all(existing_pdf_on_zp >= w):\n",
    "        accept = True\n",
    "        return zp_existing, accept\n",
    "    else:\n",
    "        accept = False\n",
    "        return zp, accept"
   ]
  },
  {
   "cell_type": "code",
   "execution_count": 4,
   "metadata": {},
   "outputs": [],
   "source": [
    "def swyft_accept_reject_loop(num_samples, existing_dist, target_dist, existing_pdf_maximum):\n",
    "    accepts = 0\n",
    "    zs = []\n",
    "    for _ in range(num_samples):\n",
    "        zp = target_dist.rvs()\n",
    "        zp_existing = existing_dist.rvs()\n",
    "        z, accept = accept_reject(zp, zp_existing, target_dist.pdf, existing_pdf_maximum)\n",
    "        accepts += accept\n",
    "        zs.append(z)\n",
    "    return np.asarray(zs), accepts\n",
    "\n",
    "def plot(p, existing_p, zs):\n",
    "    fig, ax = plt.subplots()\n",
    "\n",
    "    x = np.linspace(a, b, 100)\n",
    "    ax.plot(x, p.pdf(x), label='p')\n",
    "    ax.plot(x, existing_p.pdf(x), label=\"p'\")\n",
    "    ax.hist(zs, density=True, alpha=0.2)\n",
    "    ax.legend()\n",
    "    \n",
    "    fig.show()\n",
    "\n",
    "def plot_multi(p, existing_p, zs):\n",
    "    n_marginals = zs.shape[-1]\n",
    "    fig, axes = plt.subplots(n_marginals)\n",
    "    \n",
    "    for i, ax in enumerate(axes):\n",
    "        x = np.linspace(a, b, 100)\n",
    "        ax.plot(x, p.pdf(x)[:, i], label='p')\n",
    "        ax.plot(x, existing_p.pdf(x)[:, i], label=\"p'\")\n",
    "        ax.hist(zs[:, i], density=True, alpha=0.2)\n",
    "        ax.legend()\n",
    "    \n",
    "    fig.show()"
   ]
  },
  {
   "cell_type": "markdown",
   "metadata": {},
   "source": [
    "#### P'(z) = arbitrary, P(z) = uniform\n",
    "Let our cache distribution P'(z) = truncnorm(-1,1) and target (prior) distribution P(z) = U(-1,1)."
   ]
  },
  {
   "cell_type": "markdown",
   "metadata": {},
   "source": [
    "1-dim first"
   ]
  },
  {
   "cell_type": "code",
   "execution_count": 5,
   "metadata": {},
   "outputs": [],
   "source": [
    "a = -1\n",
    "b = 1\n",
    "\n",
    "# for truncnorm\n",
    "locs = [-0.5, 0.5]\n",
    "scales = [0.4, 1.6]\n",
    "\n",
    "p = uniform(loc=a, scale=b-a)\n",
    "loc = locs[0]\n",
    "scale = scales[0]\n",
    "existing_p = truncnorm((a-loc) / scale, (b-loc) / scale, loc, scale)"
   ]
  },
  {
   "cell_type": "code",
   "execution_count": 6,
   "metadata": {},
   "outputs": [
    {
     "data": {
      "image/png": "[encoded data removed]",
      "text/plain": [
       "<Figure size 432x288 with 1 Axes>"
      ]
     },
     "metadata": {
      "needs_background": "light"
     },
     "output_type": "display_data"
    }
   ],
   "source": [
    "# Samples from each distribution\n",
    "\n",
    "fig, ax = plt.subplots()\n",
    "\n",
    "x = np.linspace(a, b, 100)\n",
    "\n",
    "ax.plot(x, p.pdf(x), label='p')\n",
    "ax.plot(x, existing_p.pdf(x), label=\"p'\")\n",
    "ax.hist(p.rvs(10000), density=True, alpha=0.2, color='blue')\n",
    "ax.hist(existing_p.rvs(10000), density=True, alpha=0.2, color='orange')\n",
    "ax.legend()\n",
    "\n",
    "fig.show()"
   ]
  },
  {
   "cell_type": "code",
   "execution_count": 7,
   "metadata": {},
   "outputs": [
    {
     "name": "stdout",
     "output_type": "stream",
     "text": [
      "1.1151948943902705\n",
      "total: 10000, accepted: 7662\n"
     ]
    },
    {
     "data": {
      "image/png": "[encoded data removed]",
      "text/plain": [
       "<Figure size 432x288 with 1 Axes>"
      ]
     },
     "metadata": {
      "needs_background": "light"
     },
     "output_type": "display_data"
    }
   ],
   "source": [
    "existing_pdf_maximum = get_pdf_max(existing_p.pdf, a, b)\n",
    "print(existing_pdf_maximum)\n",
    "\n",
    "total = 10000\n",
    "zs, accepted = swyft_accept_reject_loop(total, p, existing_p, existing_pdf_maximum)\n",
    "print(f\"total: {total}, accepted: {accepted}\")\n",
    "\n",
    "plot(p, existing_p, zs)"
   ]
  },
  {
   "cell_type": "markdown",
   "metadata": {},
   "source": [
    "2-dim"
   ]
  },
  {
   "cell_type": "code",
   "execution_count": 8,
   "metadata": {},
   "outputs": [],
   "source": [
    "p = CombinedDist([uniform(loc=a, scale=b-a), uniform(loc=a, scale=b-a)])\n",
    "existing_p = CombinedDist([\n",
    "    truncnorm((a-loc) / scale, (b-loc) / scale, loc, scale) for loc, scale in zip(locs, scales)\n",
    "])"
   ]
  },
  {
   "cell_type": "code",
   "execution_count": 9,
   "metadata": {},
   "outputs": [
    {
     "data": {
      "image/png": "[encoded data removed]",
      "text/plain": [
       "<Figure size 432x288 with 2 Axes>"
      ]
     },
     "metadata": {
      "needs_background": "light"
     },
     "output_type": "display_data"
    }
   ],
   "source": [
    "# Samples from each distribution\n",
    "\n",
    "fig, axes = plt.subplots(2)\n",
    "\n",
    "x = np.linspace(a, b, 100)\n",
    "for i, ax in enumerate(axes):\n",
    "    ax.plot(x, p.pdf(x)[:, i], label='p')\n",
    "    ax.plot(x, existing_p.pdf(x)[:, i], label=\"p'\")\n",
    "    ax.hist(p.rvs(10000)[:, i], density=True, alpha=0.2, color='blue')\n",
    "    ax.hist(existing_p.rvs(10000)[:, i], density=True, alpha=0.2, color='orange')\n",
    "    ax.legend()\n",
    "\n",
    "fig.show()"
   ]
  },
  {
   "cell_type": "code",
   "execution_count": 10,
   "metadata": {},
   "outputs": [
    {
     "name": "stdout",
     "output_type": "stream",
     "text": [
      "total: 50000, accepted: 21614\n"
     ]
    },
    {
     "data": {
      "image/png": "[encoded data removed]",
      "text/plain": [
       "<Figure size 432x288 with 2 Axes>"
      ]
     },
     "metadata": {
      "needs_background": "light"
     },
     "output_type": "display_data"
    }
   ],
   "source": [
    "existing_pdf_maximum = get_pdf_max(existing_p.pdf, a, b)\n",
    "\n",
    "total = 50000\n",
    "zs, accepted = swyft_accept_reject_loop(total, p, existing_p, existing_pdf_maximum)\n",
    "print(f\"total: {total}, accepted: {accepted}\")\n",
    "\n",
    "plot_multi(p, existing_p, zs)"
   ]
  },
  {
   "cell_type": "code",
   "execution_count": null,
   "metadata": {},
   "outputs": [],
   "source": []
  }
 ],
 "metadata": {
  "kernelspec": {
   "display_name": "Python 3",
   "language": "python",
   "name": "python3"
  },
  "language_info": {
   "codemirror_mode": {
    "name": "ipython",
    "version": 3
   },
   "file_extension": ".py",
   "mimetype": "text/x-python",
   "name": "python",
   "nbconvert_exporter": "python",
   "pygments_lexer": "ipython3",
   "version": "3.8.3"
  }
 },
 "nbformat": 4,
 "nbformat_minor": 4
}
